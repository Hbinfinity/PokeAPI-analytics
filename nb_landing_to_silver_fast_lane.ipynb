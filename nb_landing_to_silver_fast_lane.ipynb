{
 "cells": [
  {
   "cell_type": "code",
   "execution_count": 1,
   "id": "1cef3dfe-97d3-4e2e-ad95-1cb64e3a71e6",
   "metadata": {},
   "outputs": [],
   "source": [
    "from pyspark import SparkContext\n",
    "from pyspark.sql import *\n",
    "import os\n",
    "import glob\n",
    "from time import time\n",
    "from delta import *"
   ]
  },
  {
   "cell_type": "code",
   "execution_count": 2,
   "id": "497d8c56-f5c2-4c3f-b7bb-add85054cf87",
   "metadata": {},
   "outputs": [],
   "source": [
    "# sc = SparkContext.getOrCreate()\n",
    "# spark = SparkSession(sc)\n",
    "builder = SparkSession.builder.appName(\"MyApp\") \\\n",
    "    .config(\"spark.sql.extensions\", \"io.delta.sql.DeltaSparkSessionExtension\") \\\n",
    "    .config(\"spark.sql.catalog.spark_catalog\", \"org.apache.spark.sql.delta.catalog.DeltaCatalog\")\n",
    "\n",
    "spark = configure_spark_with_delta_pip(builder).getOrCreate()"
   ]
  },
  {
   "cell_type": "code",
   "execution_count": 3,
   "id": "b497953d-2971-48c4-a195-48dde1047794",
   "metadata": {},
   "outputs": [],
   "source": [
    "start_time = time()"
   ]
  },
  {
   "cell_type": "markdown",
   "id": "a391af77-0871-4731-aeeb-34c40049f8a2",
   "metadata": {},
   "source": [
    "**Read Data from Landing Zone**"
   ]
  },
  {
   "cell_type": "code",
   "execution_count": 4,
   "id": "be339adf-55f9-40e9-88ff-567b1f4fb069",
   "metadata": {},
   "outputs": [],
   "source": [
    "all_generations_df_json = spark.read.option(\"multiLine\", \"true\").json(\"landing-zone/2022-10-03 09-43-29/json/items/generations/*.json\")\n",
    "all_pokemons_df_json = spark.read.option(\"multiLine\", \"true\").json(\"landing-zone/2022-10-03 09-43-29/json/items/pokemons/*.json\")\n",
    "all_stats_df_json = spark.read.option(\"multiLine\", \"true\").json(\"landing-zone/2022-10-03 09-43-29/json/items/stats/*.json\")\n",
    "all_types_df_json = spark.read.option(\"multiLine\", \"true\").json(\"landing-zone/2022-10-03 09-43-29/json/items/types/*.json\")\n",
    "all_version_groups_df_json = spark.read.option(\"multiLine\", \"true\").json(\"landing-zone/2022-10-03 09-43-29/json/items/version_groups/*.json\")\n",
    "all_versions_df_json = spark.read.option(\"multiLine\", \"true\").json(\"landing-zone/2022-10-03 09-43-29/json/items/versions/*.json\")"
   ]
  },
  {
   "cell_type": "code",
   "execution_count": 5,
   "id": "57c666f2-3472-44e7-8355-cb278707399e",
   "metadata": {},
   "outputs": [
    {
     "name": "stdout",
     "output_type": "stream",
     "text": [
      "Time taken to read All Landing Data JSON: 249.21813344955444\n"
     ]
    }
   ],
   "source": [
    "checkpoint_1_time = time()\n",
    "print(\"Time taken to read All Landing Data JSON: \" + str(checkpoint_1_time - start_time))"
   ]
  },
  {
   "cell_type": "markdown",
   "id": "dcf328a1-4b92-4c53-9f75-de6f33c14ab8",
   "metadata": {},
   "source": [
    "**Write Data in Silver Zone**"
   ]
  },
  {
   "cell_type": "code",
   "execution_count": 6,
   "id": "b496485e-1ff7-4af5-9bc9-a73cf4d843e4",
   "metadata": {},
   "outputs": [],
   "source": [
    "all_generations_df_json.write.format(\"delta\").mode(\"overwrite\").save(f\"silver-zone/items/generations.delta\")\n",
    "all_pokemons_df_json.write.format(\"delta\").mode(\"overwrite\").save(f\"silver-zone/items/pokemons.delta\")\n",
    "all_stats_df_json.write.format(\"delta\").mode(\"overwrite\").save(f\"silver-zone/items/stats.delta\")\n",
    "all_types_df_json.write.format(\"delta\").mode(\"overwrite\").save(f\"silver-zone/items/types.delta\")\n",
    "all_version_groups_df_json.write.format(\"delta\").mode(\"overwrite\").save(f\"silver-zone/items/version_groups.delta\")\n",
    "all_versions_df_json.write.format(\"delta\").mode(\"overwrite\").save(f\"silver-zone/items/versions.delta\")"
   ]
  },
  {
   "cell_type": "code",
   "execution_count": 7,
   "id": "a1fc0486-bfa9-4e97-b7fa-52fcfc7aa959",
   "metadata": {},
   "outputs": [
    {
     "name": "stdout",
     "output_type": "stream",
     "text": [
      "Time taken to Write Delta in Silver Zone: 60.88992643356323\n"
     ]
    }
   ],
   "source": [
    "checkpoint_2_time = time()\n",
    "print(\"Time taken to Write Delta in Silver Zone: \" + str(checkpoint_2_time - checkpoint_1_time))"
   ]
  },
  {
   "cell_type": "code",
   "execution_count": 8,
   "id": "9db83093-58c6-4e12-8411-54527a348e17",
   "metadata": {},
   "outputs": [],
   "source": [
    "all_generations_df_json.coalesce(1).write.format(\"parquet\").mode(\"overwrite\").save(f\"silver-zone/items/generations.parquet\")\n",
    "all_pokemons_df_json.coalesce(1).write.format(\"parquet\").mode(\"overwrite\").save(f\"silver-zone/items/pokemons.parquet\")\n",
    "all_stats_df_json.coalesce(1).write.format(\"parquet\").mode(\"overwrite\").save(f\"silver-zone/items/stats.parquet\")\n",
    "all_types_df_json.coalesce(1).write.format(\"parquet\").mode(\"overwrite\").save(f\"silver-zone/items/types.parquet\")\n",
    "all_version_groups_df_json.coalesce(1).write.format(\"parquet\").mode(\"overwrite\").save(f\"silver-zone/items/version_groups.parquet\")\n",
    "all_versions_df_json.coalesce(1).write.format(\"parquet\").mode(\"overwrite\").save(f\"silver-zone/items/versions.parquet\")"
   ]
  },
  {
   "cell_type": "code",
   "execution_count": 9,
   "id": "f7040365-1b63-472c-bbaa-2ccfbd80e569",
   "metadata": {},
   "outputs": [
    {
     "name": "stdout",
     "output_type": "stream",
     "text": [
      "Time taken to Write Parquet in Silver Zone: 92.78850507736206\n"
     ]
    }
   ],
   "source": [
    "checkpoint_3_time = time()\n",
    "print(\"Time taken to Write Parquet in Silver Zone: \" + str(checkpoint_3_time - checkpoint_2_time))"
   ]
  },
  {
   "cell_type": "code",
   "execution_count": null,
   "id": "b7f198ea-770e-4cea-aaeb-a0169603977d",
   "metadata": {},
   "outputs": [],
   "source": [
    "# deltaTable = DeltaTable.forPath(spark, f\"bronze-zone/items/generations.delta\")\n",
    "# deltaTable.vacuum()\n",
    "# deltaTable.history().show()"
   ]
  }
 ],
 "metadata": {
  "kernelspec": {
   "display_name": "Python 3 (ipykernel)",
   "language": "python",
   "name": "python3"
  },
  "language_info": {
   "codemirror_mode": {
    "name": "ipython",
    "version": 3
   },
   "file_extension": ".py",
   "mimetype": "text/x-python",
   "name": "python",
   "nbconvert_exporter": "python",
   "pygments_lexer": "ipython3",
   "version": "3.10.6"
  }
 },
 "nbformat": 4,
 "nbformat_minor": 5
}
