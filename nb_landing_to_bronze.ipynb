{
 "cells": [
  {
   "cell_type": "code",
   "execution_count": 1,
   "id": "1b545e72-6793-466f-baf7-8accda2cae79",
   "metadata": {},
   "outputs": [],
   "source": [
    "from pyspark import SparkContext\n",
    "from pyspark.sql import *\n",
    "import os\n",
    "import glob\n",
    "from time import time\n",
    "from delta import *"
   ]
  },
  {
   "cell_type": "code",
   "execution_count": 2,
   "id": "6f502bc1-8826-4e4c-a042-06c3130019da",
   "metadata": {},
   "outputs": [],
   "source": [
    "# sc = SparkContext.getOrCreate()\n",
    "# spark = SparkSession(sc)\n",
    "builder = SparkSession.builder.appName(\"MyApp\") \\\n",
    "    .config(\"spark.sql.extensions\", \"io.delta.sql.DeltaSparkSessionExtension\") \\\n",
    "    .config(\"spark.sql.catalog.spark_catalog\", \"org.apache.spark.sql.delta.catalog.DeltaCatalog\")\n",
    "\n",
    "spark = configure_spark_with_delta_pip(builder).getOrCreate()"
   ]
  },
  {
   "cell_type": "code",
   "execution_count": 3,
   "id": "9064b4ba-30cc-49e3-b794-2d5c77a4a672",
   "metadata": {},
   "outputs": [],
   "source": [
    "start_time = time()"
   ]
  },
  {
   "cell_type": "markdown",
   "id": "5d2a465b-12a1-4d87-8375-dd252eb34453",
   "metadata": {},
   "source": [
    "**Read Data from Landing Zone**"
   ]
  },
  {
   "cell_type": "code",
   "execution_count": 4,
   "id": "c9fa1e8e-1058-4f79-8247-19e464498ae6",
   "metadata": {},
   "outputs": [],
   "source": [
    "all_generations_df_json = spark.read.option(\"multiLine\", \"true\").json(\"landing-zone/2022-10-03 09-43-29/json/items/generations/*.json\")"
   ]
  },
  {
   "cell_type": "code",
   "execution_count": 5,
   "id": "9b94e9c9-54cf-454a-aafd-5293129515a0",
   "metadata": {},
   "outputs": [
    {
     "name": "stdout",
     "output_type": "stream",
     "text": [
      "Time taken to read All Landing Data JSON: 4.303964614868164\n"
     ]
    }
   ],
   "source": [
    "checkpoint_1_time = time()\n",
    "print(\"Time taken to read All Landing Data JSON: \" + str(checkpoint_1_time - start_time))"
   ]
  },
  {
   "cell_type": "code",
   "execution_count": 6,
   "id": "84692880-5f8a-48f4-bb74-85211637d757",
   "metadata": {},
   "outputs": [
    {
     "name": "stdout",
     "output_type": "stream",
     "text": [
      "root\n",
      " |-- abilities: array (nullable = true)\n",
      " |    |-- element: string (containsNull = true)\n",
      " |-- id: long (nullable = true)\n",
      " |-- main_region: struct (nullable = true)\n",
      " |    |-- name: string (nullable = true)\n",
      " |    |-- url: string (nullable = true)\n",
      " |-- moves: array (nullable = true)\n",
      " |    |-- element: struct (containsNull = true)\n",
      " |    |    |-- name: string (nullable = true)\n",
      " |    |    |-- url: string (nullable = true)\n",
      " |-- name: string (nullable = true)\n",
      " |-- names: array (nullable = true)\n",
      " |    |-- element: struct (containsNull = true)\n",
      " |    |    |-- language: struct (nullable = true)\n",
      " |    |    |    |-- name: string (nullable = true)\n",
      " |    |    |    |-- url: string (nullable = true)\n",
      " |    |    |-- name: string (nullable = true)\n",
      " |-- pokemon_species: array (nullable = true)\n",
      " |    |-- element: struct (containsNull = true)\n",
      " |    |    |-- name: string (nullable = true)\n",
      " |    |    |-- url: string (nullable = true)\n",
      " |-- types: array (nullable = true)\n",
      " |    |-- element: struct (containsNull = true)\n",
      " |    |    |-- name: string (nullable = true)\n",
      " |    |    |-- url: string (nullable = true)\n",
      " |-- version_groups: array (nullable = true)\n",
      " |    |-- element: struct (containsNull = true)\n",
      " |    |    |-- name: string (nullable = true)\n",
      " |    |    |-- url: string (nullable = true)\n",
      "\n",
      "None\n",
      "Rows: 8, Columns: 9\n"
     ]
    }
   ],
   "source": [
    "generation_1_df_json = spark.read.option(\"multiLine\", \"true\").json(\"landing-zone/2022-10-03 09-43-29/json/items/generations/generation-i.json\")\n",
    "\n",
    "print(generation_1_df_json.printSchema())\n",
    "row_count_all_generations_df_json = all_generations_df_json.count()\n",
    "col_count_all_generations_df_json = len(all_generations_df_json.columns)\n",
    "print(f\"Rows: {row_count_all_generations_df_json}, Columns: {col_count_all_generations_df_json}\")"
   ]
  },
  {
   "cell_type": "code",
   "execution_count": 7,
   "id": "abc93df5-7090-46ef-9b9b-b0617ea783ed",
   "metadata": {},
   "outputs": [
    {
     "data": {
      "text/plain": [
       "DataFrame[abilities: array<struct<name:string,url:string>>, id: bigint, main_region: struct<name:string,url:string>, moves: array<struct<name:string,url:string>>, name: string, names: array<struct<language:struct<name:string,url:string>,name:string>>, pokemon_species: array<struct<name:string,url:string>>, types: array<struct<name:string,url:string>>, version_groups: array<struct<name:string,url:string>>]"
      ]
     },
     "metadata": {},
     "output_type": "display_data"
    },
    {
     "name": "stdout",
     "output_type": "stream",
     "text": [
      "+--------------------+---+--------------------+--------------------+---------------+--------------------+--------------------+--------------------+--------------------+\n",
      "|           abilities| id|         main_region|               moves|           name|               names|     pokemon_species|               types|      version_groups|\n",
      "+--------------------+---+--------------------+--------------------+---------------+--------------------+--------------------+--------------------+--------------------+\n",
      "|[{pickpocket, htt...|  5|{unova, https://p...|[{hone-claws, htt...|   generation-v|[{{ja-Hrkt, https...|[{victini, https:...|                  []|[{black-white, ht...|\n",
      "|[{stench, https:/...|  3|{hoenn, https://p...|[{fake-out, https...| generation-iii|[{{ja-Hrkt, https...|[{treecko, https:...|[{shadow, https:/...|[{ruby-sapphire, ...|\n",
      "|                  []|  1|{kanto, https://p...|[{pound, https://...|   generation-i|[{{ja-Hrkt, https...|[{bulbasaur, http...|[{normal, https:/...|[{red-blue, https...|\n",
      "|[{tangled-feet, h...|  4|{sinnoh, https://...|[{roost, https://...|  generation-iv|[{{ja-Hrkt, https...|[{turtwig, https:...|                  []|[{diamond-pearl, ...|\n",
      "|[{stamina, https:...|  7|{alola, https://p...|[{breakneck-blitz...| generation-vii|[{{ja-Hrkt, https...|[{rowlet, https:/...|                  []|[{sun-moon, https...|\n",
      "|[{intrepid-sword,...|  8|{galar, https://p...|[{max-guard, http...|generation-viii|[{{ko, https://po...|[{grookey, https:...|                  []|[{sword-shield, h...|\n",
      "|                  []|  2|{johto, https://p...|[{sketch, https:/...|  generation-ii|[{{ja-Hrkt, https...|[{chikorita, http...|[{steel, https://...|[{gold-silver, ht...|\n",
      "|[{aroma-veil, htt...|  6|{kalos, https://p...|[{flying-press, h...|  generation-vi|[{{ja-Hrkt, https...|[{chespin, https:...|[{fairy, https://...|[{x-y, https://po...|\n",
      "+--------------------+---+--------------------+--------------------+---------------+--------------------+--------------------+--------------------+--------------------+\n",
      "\n"
     ]
    },
    {
     "data": {
      "text/plain": [
       "None"
      ]
     },
     "metadata": {},
     "output_type": "display_data"
    }
   ],
   "source": [
    "display(all_generations_df_json)\n",
    "display(all_generations_df_json.show())"
   ]
  },
  {
   "cell_type": "markdown",
   "id": "f7608454-9b78-478e-9416-17b76cd931c5",
   "metadata": {},
   "source": [
    "**Write Delta in Bronze Zone**"
   ]
  },
  {
   "cell_type": "code",
   "execution_count": 8,
   "id": "6492612d-9e69-40a8-b1bf-727e70385e7c",
   "metadata": {},
   "outputs": [],
   "source": [
    "all_generations_df_json.write.format(\"delta\").mode(\"overwrite\").save(f\"bronze-zone/items/generations.delta\")"
   ]
  },
  {
   "cell_type": "code",
   "execution_count": 10,
   "id": "e365c6ac-f14e-469e-ab9d-6b736e9da277",
   "metadata": {},
   "outputs": [
    {
     "name": "stdout",
     "output_type": "stream",
     "text": [
      "+-------+--------------------+------+--------+---------+--------------------+----+--------+---------+-----------+--------------+-------------+--------------------+------------+--------------------+\n",
      "|version|           timestamp|userId|userName|operation| operationParameters| job|notebook|clusterId|readVersion|isolationLevel|isBlindAppend|    operationMetrics|userMetadata|          engineInfo|\n",
      "+-------+--------------------+------+--------+---------+--------------------+----+--------+---------+-----------+--------------+-------------+--------------------+------------+--------------------+\n",
      "|      0|2022-10-04 11:19:...|  null|    null|    WRITE|{mode -> Overwrit...|null|    null|     null|       null|  Serializable|        false|{numFiles -> 8, n...|        null|Apache-Spark/3.3....|\n",
      "+-------+--------------------+------+--------+---------+--------------------+----+--------+---------+-----------+--------------+-------------+--------------------+------------+--------------------+\n",
      "\n"
     ]
    }
   ],
   "source": [
    "deltaTable = DeltaTable.forPath(spark, f\"bronze-zone/items/generations.delta\")\n",
    "deltaTable.vacuum()\n",
    "deltaTable.history().show()"
   ]
  },
  {
   "cell_type": "markdown",
   "id": "98e35701-9604-44bf-a063-1bf24c5181b2",
   "metadata": {},
   "source": [
    "**Process Rest of the entities in Bronze Zone**"
   ]
  },
  {
   "cell_type": "code",
   "execution_count": 11,
   "id": "737e6852-9226-4178-9003-27213ecd0867",
   "metadata": {},
   "outputs": [],
   "source": [
    "df_json = spark.read.option(\"multiLine\", \"true\").json(\"landing-zone/2022-10-03 09-43-29/json/items/pokemons/*.json\")\n",
    "df_json.write.format(\"delta\").mode(\"overwrite\").save(f\"bronze-zone/items/pokemons.delta\")\n",
    "df_json = spark.read.option(\"multiLine\", \"true\").json(\"landing-zone/2022-10-03 09-43-29/json/items/stats/*.json\")\n",
    "df_json.write.format(\"delta\").mode(\"overwrite\").save(f\"bronze-zone/items/stats.delta\")\n",
    "df_json = spark.read.option(\"multiLine\", \"true\").json(\"landing-zone/2022-10-03 09-43-29/json/items/types/*.json\")\n",
    "df_json.write.format(\"delta\").mode(\"overwrite\").save(f\"bronze-zone/items/types.delta\")\n",
    "df_json = spark.read.option(\"multiLine\", \"true\").json(\"landing-zone/2022-10-03 09-43-29/json/items/version_groups/*.json\")\n",
    "df_json.write.format(\"delta\").mode(\"overwrite\").save(f\"bronze-zone/items/version_groups.delta\")\n",
    "df_json = spark.read.option(\"multiLine\", \"true\").json(\"landing-zone/2022-10-03 09-43-29/json/items/versions/*.json\")\n",
    "df_json.write.format(\"delta\").mode(\"overwrite\").save(f\"bronze-zone/items/versions.delta\")"
   ]
  },
  {
   "cell_type": "code",
   "execution_count": null,
   "id": "8bbe15b4-a1fc-434e-8b0c-3053dc9a50e5",
   "metadata": {},
   "outputs": [],
   "source": [
    "checkpoint_2_time = time()\n",
    "print(\"Time taken to write Data in Bronze Zone JSON: \" + str(checkpoint_2_time - checkpoint_1_time))"
   ]
  }
 ],
 "metadata": {
  "kernelspec": {
   "display_name": "Python 3 (ipykernel)",
   "language": "python",
   "name": "python3"
  },
  "language_info": {
   "codemirror_mode": {
    "name": "ipython",
    "version": 3
   },
   "file_extension": ".py",
   "mimetype": "text/x-python",
   "name": "python",
   "nbconvert_exporter": "python",
   "pygments_lexer": "ipython3",
   "version": "3.10.6"
  }
 },
 "nbformat": 4,
 "nbformat_minor": 5
}
