{
 "cells": [
  {
   "cell_type": "code",
   "execution_count": 1,
   "id": "04f9fd3e-c98e-46d2-8ee2-acf17211b5d4",
   "metadata": {},
   "outputs": [],
   "source": [
    "from pyspark import SparkContext\n",
    "from pyspark.sql import *\n",
    "import os\n",
    "import glob\n",
    "from time import time\n",
    "from delta import *"
   ]
  },
  {
   "cell_type": "code",
   "execution_count": 2,
   "id": "085bd131-e9db-4062-af62-e5eecec87c9e",
   "metadata": {},
   "outputs": [],
   "source": [
    "# sc = SparkContext.getOrCreate()\n",
    "# spark = SparkSession(sc)\n",
    "builder = SparkSession.builder.appName(\"MyApp\") \\\n",
    "    .config(\"spark.sql.extensions\", \"io.delta.sql.DeltaSparkSessionExtension\") \\\n",
    "    .config(\"spark.sql.catalog.spark_catalog\", \"org.apache.spark.sql.delta.catalog.DeltaCatalog\")\n",
    "\n",
    "spark = configure_spark_with_delta_pip(builder).getOrCreate()"
   ]
  },
  {
   "cell_type": "markdown",
   "id": "0a38b633-7d29-472f-adc4-5e3c218d74bf",
   "metadata": {},
   "source": [
    "**Read Stream from Bronze Zone**"
   ]
  },
  {
   "cell_type": "code",
   "execution_count": 3,
   "id": "920e79ef-f820-4cc4-8700-f4866358d671",
   "metadata": {},
   "outputs": [
    {
     "name": "stdout",
     "output_type": "stream",
     "text": [
      "root\n",
      " |-- abilities: array (nullable = true)\n",
      " |    |-- element: struct (containsNull = true)\n",
      " |    |    |-- name: string (nullable = true)\n",
      " |    |    |-- url: string (nullable = true)\n",
      " |-- id: long (nullable = true)\n",
      " |-- main_region: struct (nullable = true)\n",
      " |    |-- name: string (nullable = true)\n",
      " |    |-- url: string (nullable = true)\n",
      " |-- moves: array (nullable = true)\n",
      " |    |-- element: struct (containsNull = true)\n",
      " |    |    |-- name: string (nullable = true)\n",
      " |    |    |-- url: string (nullable = true)\n",
      " |-- name: string (nullable = true)\n",
      " |-- names: array (nullable = true)\n",
      " |    |-- element: struct (containsNull = true)\n",
      " |    |    |-- language: struct (nullable = true)\n",
      " |    |    |    |-- name: string (nullable = true)\n",
      " |    |    |    |-- url: string (nullable = true)\n",
      " |    |    |-- name: string (nullable = true)\n",
      " |-- pokemon_species: array (nullable = true)\n",
      " |    |-- element: struct (containsNull = true)\n",
      " |    |    |-- name: string (nullable = true)\n",
      " |    |    |-- url: string (nullable = true)\n",
      " |-- types: array (nullable = true)\n",
      " |    |-- element: struct (containsNull = true)\n",
      " |    |    |-- name: string (nullable = true)\n",
      " |    |    |-- url: string (nullable = true)\n",
      " |-- version_groups: array (nullable = true)\n",
      " |    |-- element: struct (containsNull = true)\n",
      " |    |    |-- name: string (nullable = true)\n",
      " |    |    |-- url: string (nullable = true)\n",
      "\n",
      "Streaming DataFrame : True\n"
     ]
    }
   ],
   "source": [
    "all_generations_df = (spark.readStream.format(\"delta\")\n",
    "                      .option(\"recursiveFileLookup\", True)\n",
    "                      .option(\"ignoreChanges\", True)\n",
    "                      .option(\"startingTimestamp\", \"2022-10-02\")\n",
    "                      .load(f\"bronze-zone/items/generations.delta\"))\n",
    "all_generations_df.printSchema()\n",
    "print(\"Streaming DataFrame : \" + str(all_generations_df.isStreaming))"
   ]
  },
  {
   "cell_type": "markdown",
   "id": "6d993794-34ec-4718-a40f-4f1fb164966b",
   "metadata": {},
   "source": [
    "**Write Stream to Silver Zone**"
   ]
  },
  {
   "cell_type": "code",
   "execution_count": 4,
   "id": "b6bb1022-3ac8-4757-a40b-4714b0a28c62",
   "metadata": {},
   "outputs": [],
   "source": [
    "generation_stream_query = (all_generations_df.writeStream\n",
    "                    .format(\"delta\")\n",
    "                    .option(\"checkpointLocation\", f\"silver-zone/items/generations.delta\")\n",
    "                    .outputMode('append')\n",
    "                    .queryName(\"generation_stream_query\")\n",
    "                    .start(f\"silver-zone/items/generations.delta\")\n",
    "                   )"
   ]
  },
  {
   "cell_type": "code",
   "execution_count": 6,
   "id": "5f3623f7-add2-45b2-ba99-95f6aea3cc24",
   "metadata": {},
   "outputs": [
    {
     "name": "stdout",
     "output_type": "stream",
     "text": [
      "+--------------------+---+--------------------+--------------------+---------------+--------------------+--------------------+--------------------+--------------------+\n",
      "|           abilities| id|         main_region|               moves|           name|               names|     pokemon_species|               types|      version_groups|\n",
      "+--------------------+---+--------------------+--------------------+---------------+--------------------+--------------------+--------------------+--------------------+\n",
      "|[{stench, https:/...|  3|{hoenn, https://p...|[{fake-out, https...| generation-iii|[{{ja-Hrkt, https...|[{treecko, https:...|[{shadow, https:/...|[{ruby-sapphire, ...|\n",
      "|[{pickpocket, htt...|  5|{unova, https://p...|[{hone-claws, htt...|   generation-v|[{{ja-Hrkt, https...|[{victini, https:...|                  []|[{black-white, ht...|\n",
      "|[{stamina, https:...|  7|{alola, https://p...|[{breakneck-blitz...| generation-vii|[{{ja-Hrkt, https...|[{rowlet, https:/...|                  []|[{sun-moon, https...|\n",
      "|                  []|  1|{kanto, https://p...|[{pound, https://...|   generation-i|[{{ja-Hrkt, https...|[{bulbasaur, http...|[{normal, https:/...|[{red-blue, https...|\n",
      "|[{tangled-feet, h...|  4|{sinnoh, https://...|[{roost, https://...|  generation-iv|[{{ja-Hrkt, https...|[{turtwig, https:...|                  []|[{diamond-pearl, ...|\n",
      "|[{intrepid-sword,...|  8|{galar, https://p...|[{max-guard, http...|generation-viii|[{{ko, https://po...|[{grookey, https:...|                  []|[{sword-shield, h...|\n",
      "|[{aroma-veil, htt...|  6|{kalos, https://p...|[{flying-press, h...|  generation-vi|[{{ja-Hrkt, https...|[{chespin, https:...|[{fairy, https://...|[{x-y, https://po...|\n",
      "|                  []|  2|{johto, https://p...|[{sketch, https:/...|  generation-ii|[{{ja-Hrkt, https...|[{chikorita, http...|[{steel, https://...|[{gold-silver, ht...|\n",
      "+--------------------+---+--------------------+--------------------+---------------+--------------------+--------------------+--------------------+--------------------+\n",
      "\n"
     ]
    }
   ],
   "source": [
    "df_bronze = spark.read.format(\"delta\").load(f\"bronze-zone/items/generations.delta\")\n",
    "df_silver = spark.read.format(\"delta\").load(f\"silver-zone/items/generations.delta\")\n",
    "df_silver.show()"
   ]
  },
  {
   "cell_type": "markdown",
   "id": "ad741411-5a33-4297-88dc-971cc2ac895e",
   "metadata": {},
   "source": [
    "**Similarly Write Stream to Silver Zone for rest of the entities**"
   ]
  },
  {
   "cell_type": "code",
   "execution_count": null,
   "id": "c2047693-7a6e-4c5c-898c-d5ad460e532e",
   "metadata": {},
   "outputs": [],
   "source": [
    "# readstream_pokemon = (spark.readStream.format(\"delta\")\n",
    "#                       .option(\"recursiveFileLookup\", True)\n",
    "#                       .option(\"ignoreChanges\", True)\n",
    "#                       .option(\"startingTimestamp\", \"2022-10-02\")\n",
    "#                       .load(f\"bronze-zone/items/pokemons.delta\"))\n",
    "# readstream_pokemon.printSchema()\n",
    "# print(\"Streaming DataFrame : \" + str(readstream_pokemon.isStreaming))\n",
    "\n",
    "# stream_query_pokemon = (readstream_pokemon.writeStream\n",
    "#                     .format(\"delta\")\n",
    "#                     .option(\"checkpointLocation\", f\"silver-zone/items/pokemons.delta\")\n",
    "#                     .outputMode('append')\n",
    "#                     .queryName(\"stream_query_pokemon\")\n",
    "#                     .start(f\"silver-zone/items/pokemons.delta\")\n",
    "#                    )\n",
    "\n",
    "# readstream_stats = (spark.readStream.format(\"delta\")\n",
    "#                       .option(\"recursiveFileLookup\", True)\n",
    "#                       .option(\"ignoreChanges\", True)\n",
    "#                       .option(\"startingTimestamp\", \"2022-10-02\")\n",
    "#                       .load(f\"bronze-zone/items/stats.delta\"))\n",
    "# readstream_stats.printSchema()\n",
    "# print(\"Streaming DataFrame : \" + str(readstream_stats.isStreaming))\n",
    "\n",
    "# stream_query_stats = (readstream_stats.writeStream\n",
    "#                     .format(\"delta\")\n",
    "#                     .option(\"checkpointLocation\", f\"silver-zone/items/stats.delta\")\n",
    "#                     .outputMode('append')\n",
    "#                     .queryName(\"stream_query_stats\")\n",
    "#                     .start(f\"silver-zone/items/stats.delta\")\n",
    "#                    )\n",
    "\n",
    "# readstream_pokemon = (spark.readStream.format(\"delta\")\n",
    "#                       .option(\"recursiveFileLookup\", True)\n",
    "#                       .option(\"ignoreChanges\", True)\n",
    "#                       .option(\"startingTimestamp\", \"2022-10-02\")\n",
    "#                       .load(f\"bronze-zone/items/pokemons.delta\"))\n",
    "# readstream_pokemon.printSchema()\n",
    "# print(\"Streaming DataFrame : \" + str(readstream_pokemon.isStreaming))\n",
    "\n",
    "# stream_query_pokemon = (readstream_pokemon.writeStream\n",
    "#                     .format(\"delta\")\n",
    "#                     .option(\"checkpointLocation\", f\"silver-zone/items/pokemons.delta\")\n",
    "#                     .outputMode('append')\n",
    "#                     .queryName(\"stream_query_pokemon\")\n",
    "#                     .start(f\"silver-zone/items/pokemons.delta\")\n",
    "#                    )\n",
    "\n",
    "# readstream_pokemon = (spark.readStream.format(\"delta\")\n",
    "#                       .option(\"recursiveFileLookup\", True)\n",
    "#                       .option(\"ignoreChanges\", True)\n",
    "#                       .option(\"startingTimestamp\", \"2022-10-02\")\n",
    "#                       .load(f\"bronze-zone/items/pokemons.delta\"))\n",
    "# readstream_pokemon.printSchema()\n",
    "# print(\"Streaming DataFrame : \" + str(readstream_pokemon.isStreaming))\n",
    "\n",
    "# stream_query_pokemon = (readstream_pokemon.writeStream\n",
    "#                     .format(\"delta\")\n",
    "#                     .option(\"checkpointLocation\", f\"silver-zone/items/pokemons.delta\")\n",
    "#                     .outputMode('append')\n",
    "#                     .queryName(\"stream_query_pokemon\")\n",
    "#                     .start(f\"silver-zone/items/pokemons.delta\")\n",
    "#                    )\n",
    "\n",
    "# readstream_pokemon = (spark.readStream.format(\"delta\")\n",
    "#                       .option(\"recursiveFileLookup\", True)\n",
    "#                       .option(\"ignoreChanges\", True)\n",
    "#                       .option(\"startingTimestamp\", \"2022-10-02\")\n",
    "#                       .load(f\"bronze-zone/items/pokemons.delta\"))\n",
    "# readstream_pokemon.printSchema()\n",
    "# print(\"Streaming DataFrame : \" + str(readstream_pokemon.isStreaming))\n",
    "\n",
    "# stream_query_pokemon = (readstream_pokemon.writeStream\n",
    "#                     .format(\"delta\")\n",
    "#                     .option(\"checkpointLocation\", f\"silver-zone/items/pokemons.delta\")\n",
    "#                     .outputMode('append')\n",
    "#                     .queryName(\"stream_query_pokemon\")\n",
    "#                     .start(f\"silver-zone/items/pokemons.delta\")\n",
    "#                    )\n",
    "\n"
   ]
  }
 ],
 "metadata": {
  "kernelspec": {
   "display_name": "Python 3 (ipykernel)",
   "language": "python",
   "name": "python3"
  },
  "language_info": {
   "codemirror_mode": {
    "name": "ipython",
    "version": 3
   },
   "file_extension": ".py",
   "mimetype": "text/x-python",
   "name": "python",
   "nbconvert_exporter": "python",
   "pygments_lexer": "ipython3",
   "version": "3.10.6"
  }
 },
 "nbformat": 4,
 "nbformat_minor": 5
}
