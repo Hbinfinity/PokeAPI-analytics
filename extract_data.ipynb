{
 "cells": [
  {
   "cell_type": "code",
   "execution_count": 1,
   "id": "fbfc91fb-65d6-4112-ba72-d9a403031cd7",
   "metadata": {},
   "outputs": [],
   "source": [
    "import APIConnector\n",
    "import json\n",
    "from datetime import datetime"
   ]
  },
  {
   "cell_type": "code",
   "execution_count": 2,
   "id": "f8886e44-a665-43d1-a60f-62a9c0f76bbb",
   "metadata": {},
   "outputs": [],
   "source": [
    "# Date folder for ingestion\n",
    "today = datetime.today()\n",
    "datetime_path = today.strftime(\"%Y-%m-%d %H-%M-%S\")"
   ]
  },
  {
   "cell_type": "code",
   "execution_count": 3,
   "id": "6c111cc2-cdc1-46d9-b87e-88126f6752f0",
   "metadata": {},
   "outputs": [],
   "source": [
    "# Instantiate an API Caller with a base URL and optionally parameters\n",
    "API_caller = APIConnector.APIIngestor(base_url = \"https://pokeapi.co/api/v2/\")\n",
    "# set up the backoff strategy\n",
    "API_caller.set_HTTP_adapter(max_retry = 4, status_list = [429, 500, 502, 503, 504], backoff_constant = 2)"
   ]
  },
  {
   "cell_type": "markdown",
   "id": "34baaefb-9249-4248-8cb6-966472f90f79",
   "metadata": {},
   "source": [
    "**Ingesting Pokemon Data**"
   ]
  },
  {
   "cell_type": "code",
   "execution_count": null,
   "id": "ecac6cf2-6315-41c3-a7cb-1be9ece5870a",
   "metadata": {},
   "outputs": [
    {
     "name": "stdout",
     "output_type": "stream",
     "text": [
      "<class 'list'>\n"
     ]
    }
   ],
   "source": [
    "pokemon_list = API_caller.send_get_request(f'pokemon/?limit=-1').json()[\"results\"]\n",
    "print(type(pokemon_list))\n",
    "print(pokemon_list)\n",
    "# Get the first item of retrived Pokemon List\n",
    "print(pokemon_list[0])\n",
    "# Get the names of all pokemons\n",
    "pokemons = [i['name'] for i in pokemon_list]\n",
    "# pokemon_urls = [i['name'] for i in pokemon_list]\n",
    "# print(pokemons)"
   ]
  },
  {
   "cell_type": "code",
   "execution_count": 6,
   "id": "2082fb88-0603-4e22-a752-7158ea9eec92",
   "metadata": {},
   "outputs": [
    {
     "name": "stdout",
     "output_type": "stream",
     "text": [
      "completed extraction for data on : 2022-10-03 09-43-29\n"
     ]
    }
   ],
   "source": [
    "# Ingest Data in Parquet\n",
    "API_caller.write_to_file(pokemon_list, f'landing-zone/{datetime_path}/parquet/lists', 'all_pokemons_list', 'parquet')\n",
    "# Ingest Data in JSON\n",
    "API_caller.write_to_file(pokemon_list, f'landing-zone/{datetime_path}/json/lists', 'all_pokemons_list', 'json')\n",
    "\n",
    "print(f'completed extraction for data on : {datetime_path}')"
   ]
  },
  {
   "cell_type": "code",
   "execution_count": 7,
   "id": "4b8ece85-d48d-4e4a-8661-057de46e9aca",
   "metadata": {},
   "outputs": [],
   "source": [
    "# ingest them into an array\n",
    "for pokemon in pokemons:\n",
    "    ingestion_array = []\n",
    "    pokemon_object = API_caller.send_get_request(f'pokemon/{pokemon}').json()\n",
    "    # print(type(pokemon_object))\n",
    "    # print(\"-----------------------------------------------------------------------------------------\")\n",
    "    # print(pokemon_object)\n",
    "    # print(\"-----------------------------------------------------------------------------------------\")\n",
    "    # print(type(json.dumps(pokemon_object)))\n",
    "    # print(\"-----------------------------------------------------------------------------------------\")\n",
    "    # print(json.dumps(pokemon_object))\n",
    "    ingestion_array.append(json.dumps(pokemon_object))\n",
    "    API_caller.write_to_file(ingestion_array, f'landing-zone/{datetime_path}/parquet/items/pokemons', f'{pokemon}', 'parquet')\n",
    "    API_caller.write_to_file(ingestion_array, f'landing-zone/{datetime_path}/json/items/pokemons', f'{pokemon}', 'json')"
   ]
  },
  {
   "cell_type": "markdown",
   "id": "4ff4ea14-2213-4c54-a3d7-6de90f58149f",
   "metadata": {},
   "source": [
    "**Ingesting Types Data**\n"
   ]
  },
  {
   "cell_type": "code",
   "execution_count": 33,
   "id": "f55bf9dc-b43e-4e53-b9e1-42239144c0bf",
   "metadata": {},
   "outputs": [
    {
     "name": "stdout",
     "output_type": "stream",
     "text": [
      "<class 'list'>\n",
      "[{'name': 'normal', 'url': 'https://pokeapi.co/api/v2/type/1/'}, {'name': 'fighting', 'url': 'https://pokeapi.co/api/v2/type/2/'}, {'name': 'flying', 'url': 'https://pokeapi.co/api/v2/type/3/'}, {'name': 'poison', 'url': 'https://pokeapi.co/api/v2/type/4/'}, {'name': 'ground', 'url': 'https://pokeapi.co/api/v2/type/5/'}, {'name': 'rock', 'url': 'https://pokeapi.co/api/v2/type/6/'}, {'name': 'bug', 'url': 'https://pokeapi.co/api/v2/type/7/'}, {'name': 'ghost', 'url': 'https://pokeapi.co/api/v2/type/8/'}, {'name': 'steel', 'url': 'https://pokeapi.co/api/v2/type/9/'}, {'name': 'fire', 'url': 'https://pokeapi.co/api/v2/type/10/'}, {'name': 'water', 'url': 'https://pokeapi.co/api/v2/type/11/'}, {'name': 'grass', 'url': 'https://pokeapi.co/api/v2/type/12/'}, {'name': 'electric', 'url': 'https://pokeapi.co/api/v2/type/13/'}, {'name': 'psychic', 'url': 'https://pokeapi.co/api/v2/type/14/'}, {'name': 'ice', 'url': 'https://pokeapi.co/api/v2/type/15/'}, {'name': 'dragon', 'url': 'https://pokeapi.co/api/v2/type/16/'}, {'name': 'dark', 'url': 'https://pokeapi.co/api/v2/type/17/'}, {'name': 'fairy', 'url': 'https://pokeapi.co/api/v2/type/18/'}, {'name': 'unknown', 'url': 'https://pokeapi.co/api/v2/type/10001/'}, {'name': 'shadow', 'url': 'https://pokeapi.co/api/v2/type/10002/'}]\n",
      "{'name': 'normal', 'url': 'https://pokeapi.co/api/v2/type/1/'}\n"
     ]
    }
   ],
   "source": [
    "type_list = API_caller.send_get_request(f'type/?limit=10000000').json()[\"results\"]\n",
    "print(type(type_list))\n",
    "print(type_list)\n",
    "# Get the first item of retrived Types List\n",
    "print(type_list[0])\n",
    "# Get the names of all types\n",
    "types = [i['name'] for i in type_list]"
   ]
  },
  {
   "cell_type": "code",
   "execution_count": 34,
   "id": "4a6df0fc-bd31-4ba7-8262-ffeccb8f5681",
   "metadata": {},
   "outputs": [
    {
     "name": "stdout",
     "output_type": "stream",
     "text": [
      "completed extraction for data on : 2022-10-03 09-43-29\n"
     ]
    }
   ],
   "source": [
    "# Ingest Data in Parquet\n",
    "API_caller.write_to_file(type_list, f'landing-zone/{datetime_path}/parquet/lists', 'all_types_list', 'parquet')\n",
    "# Ingest Data in JSON\n",
    "API_caller.write_to_file(type_list, f'landing-zone/{datetime_path}/json/lists', 'all_types_list', 'json')\n",
    "\n",
    "print(f'completed extraction for data on : {datetime_path}')"
   ]
  },
  {
   "cell_type": "code",
   "execution_count": 36,
   "id": "ae7c1a5c-1465-471e-9a9e-cae2038f55e5",
   "metadata": {},
   "outputs": [],
   "source": [
    "# ingest them into an array\n",
    "for type1 in types:\n",
    "    ingestion_array = []\n",
    "    type_object = API_caller.send_get_request(f'type/{type1}').json()\n",
    "    ingestion_array.append(json.dumps(type_object))\n",
    "    API_caller.write_to_file(ingestion_array, f'landing-zone/{datetime_path}/parquet/items/types', f'{type1}', 'parquet')\n",
    "    API_caller.write_to_file(ingestion_array, f'landing-zone/{datetime_path}/json/items/types', f'{type1}', 'json')"
   ]
  },
  {
   "cell_type": "markdown",
   "id": "fc5f2d92-b3f7-4512-996f-58db1a6433b2",
   "metadata": {},
   "source": [
    "**Ingesting Generations Data**"
   ]
  },
  {
   "cell_type": "code",
   "execution_count": 4,
   "id": "ed7bb76c-8862-4a64-a411-c25da70a2be1",
   "metadata": {},
   "outputs": [],
   "source": [
    "datetime_path = f\"2022-10-03 09-43-29\""
   ]
  },
  {
   "cell_type": "code",
   "execution_count": 27,
   "id": "28c569c6-cab7-4f2e-b21e-44da5b694250",
   "metadata": {},
   "outputs": [
    {
     "name": "stdout",
     "output_type": "stream",
     "text": [
      "<class 'list'>\n",
      "[{'name': 'generation-i', 'url': 'https://pokeapi.co/api/v2/generation/1/'}, {'name': 'generation-ii', 'url': 'https://pokeapi.co/api/v2/generation/2/'}, {'name': 'generation-iii', 'url': 'https://pokeapi.co/api/v2/generation/3/'}, {'name': 'generation-iv', 'url': 'https://pokeapi.co/api/v2/generation/4/'}, {'name': 'generation-v', 'url': 'https://pokeapi.co/api/v2/generation/5/'}, {'name': 'generation-vi', 'url': 'https://pokeapi.co/api/v2/generation/6/'}, {'name': 'generation-vii', 'url': 'https://pokeapi.co/api/v2/generation/7/'}, {'name': 'generation-viii', 'url': 'https://pokeapi.co/api/v2/generation/8/'}]\n",
      "{'name': 'generation-i', 'url': 'https://pokeapi.co/api/v2/generation/1/'}\n"
     ]
    }
   ],
   "source": [
    "generation_list = API_caller.send_get_request(f'generation/?limit=10000000000').json()[\"results\"]\n",
    "print(type(generation_list))\n",
    "print(generation_list)\n",
    "# Get the first item of retrived Generations List\n",
    "print(generation_list[0])\n",
    "# Get the names of all Generations\n",
    "generations = [i['name'] for i in generation_list]"
   ]
  },
  {
   "cell_type": "code",
   "execution_count": 28,
   "id": "732e6e93-27d9-4695-9e57-4205da67c685",
   "metadata": {},
   "outputs": [
    {
     "name": "stdout",
     "output_type": "stream",
     "text": [
      "completed extraction for data on : 2022-10-03 09-43-29\n"
     ]
    }
   ],
   "source": [
    "# Ingest Data in Parquet\n",
    "API_caller.write_to_file(generation_list, f'landing-zone/{datetime_path}/parquet/lists', 'all_generations_list', 'parquet')\n",
    "# Ingest Data in JSON\n",
    "API_caller.write_to_file(generation_list, f'landing-zone/{datetime_path}/json/lists', 'all_generations_list', 'json')\n",
    "\n",
    "print(f'completed extraction for data on : {datetime_path}')"
   ]
  },
  {
   "cell_type": "code",
   "execution_count": 30,
   "id": "cce56a6b-d821-4a30-9188-74391bb52660",
   "metadata": {},
   "outputs": [],
   "source": [
    "# ingest them into an array\n",
    "for generation in generations:\n",
    "    ingestion_array = []\n",
    "    generation_object = API_caller.send_get_request(f'generation/{generation}').json()\n",
    "    ingestion_array.append(json.dumps(generation_object))\n",
    "    API_caller.write_to_file(ingestion_array, f'landing-zone/{datetime_path}/parquet/items/generations', f'{generation}', 'parquet')\n",
    "    API_caller.write_to_file(ingestion_array, f'landing-zone/{datetime_path}/json/items/generations', f'{generation}', 'json')"
   ]
  },
  {
   "cell_type": "markdown",
   "id": "95c6dc1c-87bb-4dd7-8eed-a92301f3687a",
   "metadata": {},
   "source": [
    "**Ingesting Versions Data**"
   ]
  },
  {
   "cell_type": "code",
   "execution_count": 37,
   "id": "f20854d0-4c64-4c48-93c1-60ac6e6348d3",
   "metadata": {},
   "outputs": [
    {
     "name": "stdout",
     "output_type": "stream",
     "text": [
      "<class 'list'>\n",
      "[{'name': 'red', 'url': 'https://pokeapi.co/api/v2/version/1/'}, {'name': 'blue', 'url': 'https://pokeapi.co/api/v2/version/2/'}, {'name': 'yellow', 'url': 'https://pokeapi.co/api/v2/version/3/'}, {'name': 'gold', 'url': 'https://pokeapi.co/api/v2/version/4/'}, {'name': 'silver', 'url': 'https://pokeapi.co/api/v2/version/5/'}, {'name': 'crystal', 'url': 'https://pokeapi.co/api/v2/version/6/'}, {'name': 'ruby', 'url': 'https://pokeapi.co/api/v2/version/7/'}, {'name': 'sapphire', 'url': 'https://pokeapi.co/api/v2/version/8/'}, {'name': 'emerald', 'url': 'https://pokeapi.co/api/v2/version/9/'}, {'name': 'firered', 'url': 'https://pokeapi.co/api/v2/version/10/'}, {'name': 'leafgreen', 'url': 'https://pokeapi.co/api/v2/version/11/'}, {'name': 'diamond', 'url': 'https://pokeapi.co/api/v2/version/12/'}, {'name': 'pearl', 'url': 'https://pokeapi.co/api/v2/version/13/'}, {'name': 'platinum', 'url': 'https://pokeapi.co/api/v2/version/14/'}, {'name': 'heartgold', 'url': 'https://pokeapi.co/api/v2/version/15/'}, {'name': 'soulsilver', 'url': 'https://pokeapi.co/api/v2/version/16/'}, {'name': 'black', 'url': 'https://pokeapi.co/api/v2/version/17/'}, {'name': 'white', 'url': 'https://pokeapi.co/api/v2/version/18/'}, {'name': 'colosseum', 'url': 'https://pokeapi.co/api/v2/version/19/'}, {'name': 'xd', 'url': 'https://pokeapi.co/api/v2/version/20/'}, {'name': 'black-2', 'url': 'https://pokeapi.co/api/v2/version/21/'}, {'name': 'white-2', 'url': 'https://pokeapi.co/api/v2/version/22/'}, {'name': 'x', 'url': 'https://pokeapi.co/api/v2/version/23/'}, {'name': 'y', 'url': 'https://pokeapi.co/api/v2/version/24/'}, {'name': 'omega-ruby', 'url': 'https://pokeapi.co/api/v2/version/25/'}, {'name': 'alpha-sapphire', 'url': 'https://pokeapi.co/api/v2/version/26/'}, {'name': 'sun', 'url': 'https://pokeapi.co/api/v2/version/27/'}, {'name': 'moon', 'url': 'https://pokeapi.co/api/v2/version/28/'}, {'name': 'ultra-sun', 'url': 'https://pokeapi.co/api/v2/version/29/'}, {'name': 'ultra-moon', 'url': 'https://pokeapi.co/api/v2/version/30/'}, {'name': 'lets-go-pikachu', 'url': 'https://pokeapi.co/api/v2/version/31/'}, {'name': 'lets-go-eevee', 'url': 'https://pokeapi.co/api/v2/version/32/'}, {'name': 'sword', 'url': 'https://pokeapi.co/api/v2/version/33/'}, {'name': 'shield', 'url': 'https://pokeapi.co/api/v2/version/34/'}, {'name': 'the-isle-of-armor', 'url': 'https://pokeapi.co/api/v2/version/35/'}, {'name': 'the-crown-tundra', 'url': 'https://pokeapi.co/api/v2/version/36/'}, {'name': 'brilliant-diamond', 'url': 'https://pokeapi.co/api/v2/version/37/'}, {'name': 'shining-pearl', 'url': 'https://pokeapi.co/api/v2/version/38/'}, {'name': 'legends-arceus', 'url': 'https://pokeapi.co/api/v2/version/39/'}]\n",
      "{'name': 'red', 'url': 'https://pokeapi.co/api/v2/version/1/'}\n"
     ]
    }
   ],
   "source": [
    "version_list = API_caller.send_get_request(f'version/?limit=10000000').json()[\"results\"]\n",
    "print(type(version_list))\n",
    "print(version_list)\n",
    "# Get the first item of retrived Versions List\n",
    "print(version_list[0])\n",
    "# Get the names of all Versions\n",
    "versions = [i['name'] for i in version_list]"
   ]
  },
  {
   "cell_type": "code",
   "execution_count": 38,
   "id": "6b9e9730-d274-4097-be20-8111831c2e1c",
   "metadata": {},
   "outputs": [
    {
     "name": "stdout",
     "output_type": "stream",
     "text": [
      "completed extraction for data on : 2022-10-03 09-43-29\n"
     ]
    }
   ],
   "source": [
    "# Ingest Data in Parquet\n",
    "API_caller.write_to_file(version_list, f'landing-zone/{datetime_path}/parquet/lists', 'all_versions_list', 'parquet')\n",
    "# Ingest Data in JSON\n",
    "API_caller.write_to_file(version_list, f'landing-zone/{datetime_path}/json/lists', 'all_versions_list', 'json')\n",
    "\n",
    "print(f'completed extraction for data on : {datetime_path}')"
   ]
  },
  {
   "cell_type": "code",
   "execution_count": 39,
   "id": "f4562ab2-b4ff-4c8b-9f5d-6e12ef0e90c5",
   "metadata": {},
   "outputs": [],
   "source": [
    "# ingest them into an array\n",
    "for version in versions:\n",
    "    ingestion_array = []\n",
    "    version_object = API_caller.send_get_request(f'version/{version}').json()\n",
    "    ingestion_array.append(json.dumps(version_object))\n",
    "    API_caller.write_to_file(ingestion_array, f'landing-zone/{datetime_path}/parquet/items/versions', f'{version}', 'parquet')\n",
    "    API_caller.write_to_file(ingestion_array, f'landing-zone/{datetime_path}/json/items/versions', f'{version}', 'json')"
   ]
  },
  {
   "cell_type": "markdown",
   "id": "3d8ec9cb-112c-4d3c-85cd-3f13c59ee8af",
   "metadata": {},
   "source": [
    "**Ingesting Version_Group Data**"
   ]
  },
  {
   "cell_type": "code",
   "execution_count": 40,
   "id": "a8a282c3-4c30-40f8-84ea-e18761df0d48",
   "metadata": {},
   "outputs": [
    {
     "name": "stdout",
     "output_type": "stream",
     "text": [
      "<class 'list'>\n",
      "24\n",
      "[{'name': 'red-blue', 'url': 'https://pokeapi.co/api/v2/version-group/1/'}, {'name': 'yellow', 'url': 'https://pokeapi.co/api/v2/version-group/2/'}, {'name': 'gold-silver', 'url': 'https://pokeapi.co/api/v2/version-group/3/'}, {'name': 'crystal', 'url': 'https://pokeapi.co/api/v2/version-group/4/'}, {'name': 'ruby-sapphire', 'url': 'https://pokeapi.co/api/v2/version-group/5/'}, {'name': 'emerald', 'url': 'https://pokeapi.co/api/v2/version-group/6/'}, {'name': 'firered-leafgreen', 'url': 'https://pokeapi.co/api/v2/version-group/7/'}, {'name': 'diamond-pearl', 'url': 'https://pokeapi.co/api/v2/version-group/8/'}, {'name': 'platinum', 'url': 'https://pokeapi.co/api/v2/version-group/9/'}, {'name': 'heartgold-soulsilver', 'url': 'https://pokeapi.co/api/v2/version-group/10/'}, {'name': 'black-white', 'url': 'https://pokeapi.co/api/v2/version-group/11/'}, {'name': 'colosseum', 'url': 'https://pokeapi.co/api/v2/version-group/12/'}, {'name': 'xd', 'url': 'https://pokeapi.co/api/v2/version-group/13/'}, {'name': 'black-2-white-2', 'url': 'https://pokeapi.co/api/v2/version-group/14/'}, {'name': 'x-y', 'url': 'https://pokeapi.co/api/v2/version-group/15/'}, {'name': 'omega-ruby-alpha-sapphire', 'url': 'https://pokeapi.co/api/v2/version-group/16/'}, {'name': 'sun-moon', 'url': 'https://pokeapi.co/api/v2/version-group/17/'}, {'name': 'ultra-sun-ultra-moon', 'url': 'https://pokeapi.co/api/v2/version-group/18/'}, {'name': 'lets-go-pikachu-lets-go-eevee', 'url': 'https://pokeapi.co/api/v2/version-group/19/'}, {'name': 'sword-shield', 'url': 'https://pokeapi.co/api/v2/version-group/20/'}, {'name': 'the-isle-of-armor', 'url': 'https://pokeapi.co/api/v2/version-group/21/'}, {'name': 'the-crown-tundra', 'url': 'https://pokeapi.co/api/v2/version-group/22/'}, {'name': 'brilliant-diamond-and-shining-pearl', 'url': 'https://pokeapi.co/api/v2/version-group/23/'}, {'name': 'legends-arceus', 'url': 'https://pokeapi.co/api/v2/version-group/24/'}]\n",
      "{'name': 'red-blue', 'url': 'https://pokeapi.co/api/v2/version-group/1/'}\n"
     ]
    }
   ],
   "source": [
    "version_group_list = API_caller.send_get_request(f'version-group/?limit=10000000').json()[\"results\"]\n",
    "print(type(version_group_list))\n",
    "print(len(version_group_list))\n",
    "print(version_group_list)\n",
    "# Get the first item of retrived Version Groups List\n",
    "print(version_group_list[0])\n",
    "# Get the names of all Version Groups\n",
    "version_groups = [i['name'] for i in version_group_list]"
   ]
  },
  {
   "cell_type": "code",
   "execution_count": 41,
   "id": "d539b948-c145-46a8-9499-dd0c6b78f421",
   "metadata": {},
   "outputs": [
    {
     "name": "stdout",
     "output_type": "stream",
     "text": [
      "completed extraction for data on : 2022-10-03 09-43-29\n"
     ]
    }
   ],
   "source": [
    "# Ingest Data in Parquet\n",
    "API_caller.write_to_file(version_group_list, f'landing-zone/{datetime_path}/parquet/lists', 'all_version_groups_list', 'parquet')\n",
    "# Ingest Data in JSON\n",
    "API_caller.write_to_file(version_group_list, f'landing-zone/{datetime_path}/json/lists', 'all_version_groups_list', 'json')\n",
    "\n",
    "print(f'completed extraction for data on : {datetime_path}')"
   ]
  },
  {
   "cell_type": "code",
   "execution_count": 42,
   "id": "247f696e-77f3-4128-9548-b6c6ef102260",
   "metadata": {},
   "outputs": [],
   "source": [
    "# ingest them into an array\n",
    "for version_group in version_groups:\n",
    "    ingestion_array = []\n",
    "    version_group_object = API_caller.send_get_request(f'version-group/{version_group}').json()\n",
    "    ingestion_array.append(json.dumps(version_group_object))\n",
    "    API_caller.write_to_file(ingestion_array, f'landing-zone/{datetime_path}/parquet/items/version_groups', f'{version_group}', 'parquet')\n",
    "    API_caller.write_to_file(ingestion_array, f'landing-zone/{datetime_path}/json/items/version_groups', f'{version_group}', 'json')"
   ]
  },
  {
   "cell_type": "markdown",
   "id": "433c3594-8d9c-4b3f-bf1d-87a1732dc45f",
   "metadata": {},
   "source": [
    "**Ingesting Stats Data**"
   ]
  },
  {
   "cell_type": "code",
   "execution_count": 43,
   "id": "d054595a-07e4-4eb7-8b92-5d2758c0d0cc",
   "metadata": {},
   "outputs": [
    {
     "name": "stdout",
     "output_type": "stream",
     "text": [
      "<class 'list'>\n",
      "8\n",
      "[{'name': 'hp', 'url': 'https://pokeapi.co/api/v2/stat/1/'}, {'name': 'attack', 'url': 'https://pokeapi.co/api/v2/stat/2/'}, {'name': 'defense', 'url': 'https://pokeapi.co/api/v2/stat/3/'}, {'name': 'special-attack', 'url': 'https://pokeapi.co/api/v2/stat/4/'}, {'name': 'special-defense', 'url': 'https://pokeapi.co/api/v2/stat/5/'}, {'name': 'speed', 'url': 'https://pokeapi.co/api/v2/stat/6/'}, {'name': 'accuracy', 'url': 'https://pokeapi.co/api/v2/stat/7/'}, {'name': 'evasion', 'url': 'https://pokeapi.co/api/v2/stat/8/'}]\n",
      "{'name': 'hp', 'url': 'https://pokeapi.co/api/v2/stat/1/'}\n"
     ]
    }
   ],
   "source": [
    "stat_list = API_caller.send_get_request(f'stat/?limit=100000000000').json()[\"results\"]\n",
    "print(type(stat_list))\n",
    "print(len(stat_list))\n",
    "print(stat_list)\n",
    "# Get the first item of retrived Stats List\n",
    "print(stat_list[0])\n",
    "# Get the names of all Stats\n",
    "stats = [i['name'] for i in stat_list]"
   ]
  },
  {
   "cell_type": "code",
   "execution_count": 44,
   "id": "289a43ba-a40a-42b1-9d1c-23bbd9f35640",
   "metadata": {},
   "outputs": [
    {
     "name": "stdout",
     "output_type": "stream",
     "text": [
      "completed extraction for data on : 2022-10-03 09-43-29\n"
     ]
    }
   ],
   "source": [
    "# Ingest Data in Parquet\n",
    "API_caller.write_to_file(stat_list, f'landing-zone/{datetime_path}/parquet/lists', 'all_stats_list', 'parquet')\n",
    "# Ingest Data in JSON\n",
    "API_caller.write_to_file(stat_list, f'landing-zone/{datetime_path}/json/lists', 'all_stats_list', 'json')\n",
    "\n",
    "print(f'completed extraction for data on : {datetime_path}')"
   ]
  },
  {
   "cell_type": "code",
   "execution_count": 45,
   "id": "db31f1eb-5461-44be-b3ca-310c3edc772b",
   "metadata": {},
   "outputs": [],
   "source": [
    "# ingest them into an array\n",
    "for stat in stats:\n",
    "    ingestion_array = []\n",
    "    stat_object = API_caller.send_get_request(f'stat/{stat}').json()\n",
    "    ingestion_array.append(json.dumps(stat_object))\n",
    "    API_caller.write_to_file(ingestion_array, f'landing-zone/{datetime_path}/parquet/items/stats', f'{stat}', 'parquet')\n",
    "    API_caller.write_to_file(ingestion_array, f'landing-zone/{datetime_path}/json/items/stats', f'{stat}', 'json')"
   ]
  },
  {
   "cell_type": "markdown",
   "id": "74802445-3cce-48aa-a209-dad0a2d10a60",
   "metadata": {},
   "source": [
    "**Ingesting Items Data**"
   ]
  },
  {
   "cell_type": "code",
   "execution_count": null,
   "id": "fb722454-ec35-42e5-a023-2ce02333080a",
   "metadata": {},
   "outputs": [],
   "source": [
    "item_list = API_caller.send_get_request(f'item/?limit=100000000000').json()[\"results\"]\n",
    "print(type(item_list))\n",
    "print(len(item_list))\n",
    "print(item_list)\n",
    "# Get the first item of retrived Items List\n",
    "print(item_list[0])\n",
    "# Get the names of all Items\n",
    "items = [i['name'] for i in item_list]"
   ]
  },
  {
   "cell_type": "code",
   "execution_count": null,
   "id": "9f4d0b3c-698e-4d50-bf97-d86aa210b87c",
   "metadata": {},
   "outputs": [],
   "source": [
    "# Ingest Data in Parquet\n",
    "API_caller.write_to_file(item_list, f'landing-zone/{datetime_path}/parquet/lists', 'all_items_list', 'parquet')\n",
    "# Ingest Data in JSON\n",
    "API_caller.write_to_file(item_list, f'landing-zone/{datetime_path}/json/lists', 'all_items_list', 'json')\n",
    "\n",
    "print(f'completed extraction for data on : {datetime_path}')"
   ]
  },
  {
   "cell_type": "code",
   "execution_count": null,
   "id": "57b907ef-cc2d-405b-8ada-193f85f50d21",
   "metadata": {},
   "outputs": [],
   "source": [
    "# ingest them into an array\n",
    "for item in items:\n",
    "    ingestion_array = []\n",
    "    item_object = API_caller.send_get_request(f'item/{item}').json()\n",
    "    ingestion_array.append(json.dumps(item_object))\n",
    "    API_caller.write_to_file(ingestion_array, f'landing-zone/{datetime_path}/parquet/items/items', f'{item}', 'parquet')\n",
    "    API_caller.write_to_file(ingestion_array, f'landing-zone/{datetime_path}/json/items/items', f'{item}', 'json')"
   ]
  },
  {
   "cell_type": "markdown",
   "id": "59794b18-d265-417e-8d81-3dac9a0ffd71",
   "metadata": {},
   "source": [
    "**Ingesting Species Data**"
   ]
  },
  {
   "cell_type": "code",
   "execution_count": null,
   "id": "7359c86e-b00f-4006-9db5-682070c52cd7",
   "metadata": {},
   "outputs": [],
   "source": [
    "pokemon_species_list = API_caller.send_get_request(f'pokemon-species/?limit=100000000000').json()[\"results\"]\n",
    "print(type(pokemon_species_list))\n",
    "print(len(pokemon_species_list))\n",
    "print(pokemon_species_list)\n",
    "# Get the first item of retrived Items List\n",
    "print(pokemon_species_list[0])\n",
    "# Get the names of all Items\n",
    "pokemon_species = [i['name'] for i in pokemon_species_list]"
   ]
  },
  {
   "cell_type": "code",
   "execution_count": null,
   "id": "76f9e193-183a-4409-ae08-c29b5c8dbacd",
   "metadata": {},
   "outputs": [],
   "source": [
    "# Ingest Data in Parquet\n",
    "API_caller.write_to_file(pokemon_species_list, f'landing-zone/{datetime_path}/parquet/lists', 'all_pokemon_species_list', 'parquet')\n",
    "# Ingest Data in JSON\n",
    "API_caller.write_to_file(pokemon_species_list, f'landing-zone/{datetime_path}/json/lists', 'all_pokemon_species_list', 'json')\n",
    "\n",
    "print(f'completed extraction for data on : {datetime_path}')"
   ]
  },
  {
   "cell_type": "code",
   "execution_count": null,
   "id": "7c500d27-35a6-455b-947c-35fce4c2563a",
   "metadata": {},
   "outputs": [],
   "source": [
    "# ingest them into an array\n",
    "for pokemon_species1 in pokemon_species:\n",
    "    ingestion_array = []\n",
    "    pokemon_species_object = API_caller.send_get_request(f'pokemon-species/{pokemon_species1}').json()\n",
    "    ingestion_array.append(json.dumps(pokemon_species_object))\n",
    "    API_caller.write_to_file(ingestion_array, f'landing-zone/{datetime_path}/parquet/items/pokemon_species', f'{pokemon_species1}', 'parquet')\n",
    "    API_caller.write_to_file(ingestion_array, f'landing-zone/{datetime_path}/json/items/pokemon_species', f'{pokemon_species1}', 'json')"
   ]
  },
  {
   "cell_type": "markdown",
   "id": "b46f815a-5332-4ac0-834a-980f98fdca50",
   "metadata": {},
   "source": [
    "**Ingesting Ablities Data**"
   ]
  },
  {
   "cell_type": "code",
   "execution_count": null,
   "id": "a1b0189a-5198-4a1e-8d14-ae587c020368",
   "metadata": {},
   "outputs": [],
   "source": [
    "ability_list = API_caller.send_get_request(f'ability/?limit=100000000000').json()[\"results\"]\n",
    "print(type(ability_list))\n",
    "print(len(ability_list))\n",
    "print(ability_list)\n",
    "# Get the first item of retrived Items List\n",
    "print(ability_list[0])\n",
    "# Get the names of all Items\n",
    "abilities = [i['name'] for i in ability_list]"
   ]
  },
  {
   "cell_type": "code",
   "execution_count": null,
   "id": "e7935065-ad1e-484d-b0c4-6eb8b6611666",
   "metadata": {},
   "outputs": [],
   "source": [
    "# Ingest Data in Parquet\n",
    "API_caller.write_to_file(ability_list, f'landing-zone/{datetime_path}/parquet/lists', 'all_abilities_list', 'parquet')\n",
    "# Ingest Data in JSON\n",
    "API_caller.write_to_file(ability_list, f'landing-zone/{datetime_path}/json/lists', 'all_abilities_list', 'json')\n",
    "\n",
    "print(f'completed extraction for data on : {datetime_path}')"
   ]
  },
  {
   "cell_type": "code",
   "execution_count": null,
   "id": "c97d667e-8b9b-4457-a28c-5989b0ef5f3f",
   "metadata": {},
   "outputs": [],
   "source": [
    "# ingest them into an array\n",
    "for ability in abilities:\n",
    "    ingestion_array = []\n",
    "    ability_object = API_caller.send_get_request(f'ability/{ability}').json()\n",
    "    ingestion_array.append(json.dumps(ability_object))\n",
    "    API_caller.write_to_file(ingestion_array, f'landing-zone/{datetime_path}/parquet/items/abilities', f'{ability}', 'parquet')\n",
    "    API_caller.write_to_file(ingestion_array, f'landing-zone/{datetime_path}/json/items/abilities', f'{ability}', 'json')"
   ]
  }
 ],
 "metadata": {
  "kernelspec": {
   "display_name": "Python 3 (ipykernel)",
   "language": "python",
   "name": "python3"
  },
  "language_info": {
   "codemirror_mode": {
    "name": "ipython",
    "version": 3
   },
   "file_extension": ".py",
   "mimetype": "text/x-python",
   "name": "python",
   "nbconvert_exporter": "python",
   "pygments_lexer": "ipython3",
   "version": "3.10.6"
  }
 },
 "nbformat": 4,
 "nbformat_minor": 5
}
